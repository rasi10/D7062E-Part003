{
 "cells": [
  {
   "cell_type": "markdown",
   "metadata": {},
   "source": [
    "Importing the required libraries"
   ]
  },
  {
   "cell_type": "code",
   "execution_count": null,
   "metadata": {},
   "outputs": [],
   "source": [
    "import pandas as pd\n",
    "import numpy as np\n",
    "import matplotlib.pyplot as plt\n",
    "from sklearn import svm\n",
    "from sklearn.impute import SimpleImputer\n",
    "from sklearn.tree import DecisionTreeClassifier\n",
    "from sklearn.neural_network import MLPClassifier\n",
    "from sklearn.preprocessing import StandardScaler\n",
    "from sklearn.ensemble import RandomForestClassifier\n",
    "from sklearn.neighbors import KNeighborsClassifier\n",
    "from sklearn.metrics import accuracy_score, confusion_matrix, classification_report\n",
    "from sklearn.model_selection import cross_val_score\n",
    "%matplotlib inline"
   ]
  },
  {
   "cell_type": "markdown",
   "metadata": {},
   "source": [
    "Loading the training data"
   ]
  },
  {
   "cell_type": "code",
   "execution_count": null,
   "metadata": {},
   "outputs": [],
   "source": [
    "gesture_training_data = pd.read_csv('../datasets/train-final.csv')\n",
    "train_features = gesture_training_data.iloc[:,0:240].values\n",
    "train_labels=gesture_training_data.iloc[:,241].values"
   ]
  },
  {
   "cell_type": "markdown",
   "metadata": {},
   "source": [
    "Loading the test data"
   ]
  },
  {
   "cell_type": "code",
   "execution_count": null,
   "metadata": {},
   "outputs": [],
   "source": [
    "gesture_testing_data = pd.read_csv('../datasets/test-final.csv')\n",
    "test_features = gesture_testing_data.iloc[:,0:240].values\n",
    "test_labels=gesture_testing_data.iloc[:,241].values"
   ]
  },
  {
   "cell_type": "markdown",
   "metadata": {},
   "source": [
    "Preprocessing the data | handling missing values"
   ]
  },
  {
   "cell_type": "code",
   "execution_count": null,
   "metadata": {},
   "outputs": [],
   "source": [
    "imputer_train = SimpleImputer(missing_values=np.nan, strategy='mean')\n",
    "imputer_train = imputer_train.fit(train_features[:,:])\n",
    "train_features[:,:] = imputer_train.transform(train_features[:,:])\n",
    "\n",
    "imputer_test = SimpleImputer(missing_values=np.nan, strategy='mean')\n",
    "imputer_test = imputer_test.fit(test_features[:,:])\n",
    "test_features[:,:] = imputer_test.transform(test_features[:,:])"
   ]
  },
  {
   "cell_type": "markdown",
   "metadata": {},
   "source": [
    "Normalizing the data with scaling"
   ]
  },
  {
   "cell_type": "code",
   "execution_count": null,
   "metadata": {},
   "outputs": [],
   "source": [
    "feature_scaler = StandardScaler()\n",
    "train_features_poly = feature_scaler.fit_transform(train_features)\n",
    "test_features_poly = feature_scaler.transform(test_features)"
   ]
  },
  {
   "cell_type": "markdown",
   "metadata": {},
   "source": [
    "Train the algorithm"
   ]
  },
  {
   "cell_type": "code",
   "execution_count": null,
   "metadata": {},
   "outputs": [],
   "source": [
    "dt_reg = DecisionTreeClassifier()\n",
    "dt_reg.fit(train_features, train_labels)"
   ]
  },
  {
   "cell_type": "markdown",
   "metadata": {},
   "source": [
    "Make prediction"
   ]
  },
  {
   "cell_type": "code",
   "execution_count": null,
   "metadata": {},
   "outputs": [],
   "source": [
    "predictions = dt_reg.predict(test_features)"
   ]
  },
  {
   "cell_type": "code",
   "execution_count": null,
   "metadata": {},
   "outputs": [],
   "source": [
    "comparison=pd.DataFrame({'Real':test_labels, 'Predictions':predictions})\n",
    "print(comparison)"
   ]
  },
  {
   "cell_type": "code",
   "execution_count": null,
   "metadata": {},
   "outputs": [],
   "source": [
    "print('------------------------------------------------------------------------------------------------------')\n",
    "print('Cross validation with 10-fold')\n",
    "cross_v = cross_val_score(\n",
    "    dt_reg,\n",
    "    train_features,\n",
    "    train_labels,\n",
    "    cv=10,\n",
    "    scoring=\"accuracy\")\n",
    "print(cross_v)\n",
    "print(f' Average out of the cross-validation with 10 fold: {cross_v.mean()}')\n",
    "print('------------------------------------------------------------------------------------------------------')\n",
    "\n",
    "# Print classification report\n",
    "# print(confusion_matrix(test_labels, predictions))\n",
    "# print(f'Accuracy Score {np.sqrt(accuracy_score(test_labels, predictions))}')\n",
    "print(classification_report(test_labels, predictions))\n",
    "print('------------------------------------------------------------------------------------------------------')"
   ]
  }
 ],
 "metadata": {
  "kernelspec": {
   "display_name": "Python 3.10.4 64-bit",
   "language": "python",
   "name": "python3"
  },
  "language_info": {
   "codemirror_mode": {
    "name": "ipython",
    "version": 3
   },
   "file_extension": ".py",
   "mimetype": "text/x-python",
   "name": "python",
   "nbconvert_exporter": "python",
   "pygments_lexer": "ipython3",
   "version": "3.10.4"
  },
  "orig_nbformat": 4,
  "vscode": {
   "interpreter": {
    "hash": "916dbcbb3f70747c44a77c7bcd40155683ae19c65e1c03b4aa3499c5328201f1"
   }
  }
 },
 "nbformat": 4,
 "nbformat_minor": 2
}
